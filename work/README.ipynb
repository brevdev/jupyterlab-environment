{
 "cells": [
  {
   "cell_type": "markdown",
   "id": "2b03dcaf-cc7f-42b9-bae6-7ca2dcbccd03",
   "metadata": {},
   "source": [
    "Welcome! everything inside of the /work/ directory will be preserved, but files created outside this directory will be lost when the server resets. Enjoy using our environment and reach out to our discord for support "
   ]
  }
 ],
 "metadata": {
  "kernelspec": {
   "display_name": "Python 3 (ipykernel)",
   "language": "python",
   "name": "python3"
  },
  "language_info": {
   "codemirror_mode": {
    "name": "ipython",
    "version": 3
   },
   "file_extension": ".py",
   "mimetype": "text/x-python",
   "name": "python",
   "nbconvert_exporter": "python",
   "pygments_lexer": "ipython3",
   "version": "3.10.5"
  }
 },
 "nbformat": 4,
 "nbformat_minor": 5
}
